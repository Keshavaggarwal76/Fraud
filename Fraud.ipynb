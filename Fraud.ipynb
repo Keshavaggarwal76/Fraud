{
 "cells": [
  {
   "cell_type": "code",
   "execution_count": null,
   "id": "60a654d1",
   "metadata": {},
   "outputs": [],
   "source": [
    "import pandas as pd\n",
    "import numpy as np\n",
    "import matplotlib.pyplot as plt\n",
    "%matplotlib inline\n",
    "import seaborn as sns"
   ]
  },
  {
   "cell_type": "markdown",
   "id": "643e76a0",
   "metadata": {},
   "source": [
    "https://drive.google.com/uc?export=download&confirm=6gh6&id=1VNpyNkGxHdskfdTNRSjjyNa5qC9u0JyV"
   ]
  },
  {
   "cell_type": "code",
   "execution_count": null,
   "id": "523f28bf",
   "metadata": {},
   "outputs": [],
   "source": [
    "df = pd.read_csv(\"Fraud.csv\")"
   ]
  },
  {
   "cell_type": "markdown",
   "id": "56e2a9a3",
   "metadata": {},
   "source": [
    "## Data Analysis & Cleaning"
   ]
  },
  {
   "cell_type": "code",
   "execution_count": null,
   "id": "56199dc4",
   "metadata": {},
   "outputs": [],
   "source": [
    "df.isnull().values.any()"
   ]
  },
  {
   "cell_type": "code",
   "execution_count": null,
   "id": "b606fe62",
   "metadata": {},
   "outputs": [],
   "source": [
    "df[df.isFlaggedFraud==1].isFlaggedFraud.count()"
   ]
  },
  {
   "cell_type": "code",
   "execution_count": null,
   "id": "917b2540",
   "metadata": {},
   "outputs": [],
   "source": [
    "df[ df.isFlaggedFraud == 1].type.unique()"
   ]
  },
  {
   "cell_type": "code",
   "execution_count": null,
   "id": "ebaa771f",
   "metadata": {},
   "outputs": [],
   "source": [
    "df[ (df.isFlaggedFraud == 1)].describe()"
   ]
  },
  {
   "cell_type": "markdown",
   "id": "7f3d78b6",
   "metadata": {},
   "source": [
    "###### Flagged Fraud is both 0 & 1 for amount > 200000 so it seems to have no effect on Amount"
   ]
  },
  {
   "cell_type": "code",
   "execution_count": null,
   "id": "9d0d345f",
   "metadata": {},
   "outputs": [],
   "source": [
    "df[ (df.amount>200000) & (df.type == \"TRANSFER\")].isFlaggedFraud.count()"
   ]
  },
  {
   "cell_type": "code",
   "execution_count": null,
   "id": "2acb5ca3",
   "metadata": {},
   "outputs": [],
   "source": [
    "df[ (df.isFlaggedFraud == 1) & (df.amount>200000)].isFlaggedFraud.count()"
   ]
  },
  {
   "cell_type": "markdown",
   "id": "1468ea30",
   "metadata": {},
   "source": [
    "###### Flagged Fraud is both 0 & 1 for the case when both Old & New Balance in Destination is 0 so hence we can assume it dosen't affect these columns"
   ]
  },
  {
   "cell_type": "code",
   "execution_count": null,
   "id": "12886af1",
   "metadata": {
    "scrolled": true
   },
   "outputs": [],
   "source": [
    "df[(df.isFlaggedFraud == 1) & (df.oldbalanceDest == 0) & (df.newbalanceDest == 0)].isFlaggedFraud.all()"
   ]
  },
  {
   "cell_type": "code",
   "execution_count": null,
   "id": "3afbb0b2",
   "metadata": {},
   "outputs": [],
   "source": [
    "(df[(df.isFlaggedFraud == 0) & (df.oldbalanceDest == 0) & (df.newbalanceDest == 0)& (df.type == \"TRANSFER\")].isFlaggedFraud == 0).any()"
   ]
  },
  {
   "cell_type": "markdown",
   "id": "bb877732",
   "metadata": {},
   "source": [
    "###### No Merchant is involved in Flag Fraud Transaction"
   ]
  },
  {
   "cell_type": "code",
   "execution_count": null,
   "id": "b78d7b16",
   "metadata": {},
   "outputs": [],
   "source": [
    "df[df.nameDest.str.contains('M')].isFlaggedFraud.unique()"
   ]
  },
  {
   "cell_type": "markdown",
   "id": "197e747b",
   "metadata": {},
   "source": [
    "###### Difference in Old & New Balance of Originator is 0 in both the cases of Flaged Fraud so these also dosen't get affected by  Flaged Fraud"
   ]
  },
  {
   "cell_type": "code",
   "execution_count": null,
   "id": "88751f90",
   "metadata": {
    "scrolled": true
   },
   "outputs": [],
   "source": [
    "(df[df.isFlaggedFraud==1].oldbalanceOrg - df[df.isFlaggedFraud==1].newbalanceOrig).sum()"
   ]
  },
  {
   "cell_type": "code",
   "execution_count": null,
   "id": "01279fef",
   "metadata": {},
   "outputs": [],
   "source": [
    "((df[df.isFlaggedFraud==0].oldbalanceOrg - df[df.isFlaggedFraud==0].newbalanceOrig)==0).unique()"
   ]
  },
  {
   "cell_type": "markdown",
   "id": "182edc6a",
   "metadata": {},
   "source": [
    "###### As there are only 16 Flaged Fraud Rows in Millions of data & they are not affecting much to our dataset so we can drop this column"
   ]
  },
  {
   "cell_type": "code",
   "execution_count": null,
   "id": "470781b9",
   "metadata": {},
   "outputs": [],
   "source": [
    "df.drop(\"isFlaggedFraud\",axis=1,inplace=True)"
   ]
  },
  {
   "cell_type": "code",
   "execution_count": null,
   "id": "cf0660f5",
   "metadata": {},
   "outputs": [],
   "source": [
    "df.head(2)"
   ]
  },
  {
   "cell_type": "markdown",
   "id": "3d392d2b",
   "metadata": {},
   "source": [
    "###### Types of Transaction which are marked as fraud"
   ]
  },
  {
   "cell_type": "code",
   "execution_count": null,
   "id": "30552752",
   "metadata": {
    "scrolled": true
   },
   "outputs": [],
   "source": [
    "df.type.unique()"
   ]
  },
  {
   "cell_type": "code",
   "execution_count": null,
   "id": "a0891bf9",
   "metadata": {},
   "outputs": [],
   "source": [
    "df[df.isFraud==1].type.unique()"
   ]
  },
  {
   "cell_type": "code",
   "execution_count": null,
   "id": "c41b181f",
   "metadata": {},
   "outputs": [],
   "source": [
    "df[df.nameDest.str.contains('M')].type.unique()"
   ]
  },
  {
   "cell_type": "code",
   "execution_count": null,
   "id": "72f7bc5a",
   "metadata": {},
   "outputs": [],
   "source": [
    "df.nameOrig.str.contains('M').any()"
   ]
  },
  {
   "cell_type": "markdown",
   "id": "854147c3",
   "metadata": {},
   "source": [
    "###### We can easily see that Fraud Transactions occured mainly in Transfer & Cash_Out so we can drop other types"
   ]
  },
  {
   "cell_type": "code",
   "execution_count": null,
   "id": "b359000c",
   "metadata": {},
   "outputs": [],
   "source": [
    "df = df.loc[(df.type == 'TRANSFER') | (df.type == 'CASH_OUT')]"
   ]
  },
  {
   "cell_type": "markdown",
   "id": "61ea4f09",
   "metadata": {},
   "source": [
    "###### Created 2 new columns showing difference in old & new amount of origion & destination"
   ]
  },
  {
   "cell_type": "code",
   "execution_count": null,
   "id": "8923ef89",
   "metadata": {},
   "outputs": [],
   "source": [
    "df.insert(6,\"DifferenceOrig\",df.oldbalanceOrg - df.newbalanceOrig)"
   ]
  },
  {
   "cell_type": "code",
   "execution_count": null,
   "id": "f9d08015",
   "metadata": {},
   "outputs": [],
   "source": [
    "df.insert(10,\"DifferenceDest\",(df.newbalanceDest - df.oldbalanceDest))"
   ]
  },
  {
   "cell_type": "code",
   "execution_count": null,
   "id": "af4f349d",
   "metadata": {},
   "outputs": [],
   "source": [
    "df.head()"
   ]
  },
  {
   "cell_type": "markdown",
   "id": "ac81a18c",
   "metadata": {},
   "source": [
    "###### From Data Dictionary Fraudulent transaction is that which first transfer the amount & then cashing out"
   ]
  },
  {
   "cell_type": "code",
   "execution_count": null,
   "id": "2a240d63",
   "metadata": {},
   "outputs": [],
   "source": [
    "df[(df.isFraud==1) & df.nameDest.isin(df.nameOrig)]"
   ]
  },
  {
   "cell_type": "code",
   "execution_count": null,
   "id": "f3801299",
   "metadata": {},
   "outputs": [],
   "source": [
    "df[(df.isFraud==1) & df.nameOrig.isin(df.nameDest)].any().any()"
   ]
  },
  {
   "cell_type": "markdown",
   "id": "ec28f177",
   "metadata": {},
   "source": [
    "###### Transfer Destination accounts which are present in origin accounts & have cash out in second step are not fraud "
   ]
  },
  {
   "cell_type": "code",
   "execution_count": null,
   "id": "70c71302",
   "metadata": {},
   "outputs": [],
   "source": [
    "l1 = df[(df.type==\"TRANSFER\") & df.nameDest.isin(df.nameOrig)].nameDest.unique()"
   ]
  },
  {
   "cell_type": "code",
   "execution_count": null,
   "id": "c2cddd40",
   "metadata": {},
   "outputs": [],
   "source": [
    "df[(df.type==\"CASH_OUT\") & df.nameOrig.isin(l1)].isFraud.unique()"
   ]
  },
  {
   "cell_type": "markdown",
   "id": "675596fa",
   "metadata": {},
   "source": [
    "###### Originator & Destiantion account name seems to have not much impact on predicting wheather a transaction is fraud or not so we can drop them"
   ]
  },
  {
   "cell_type": "code",
   "execution_count": null,
   "id": "79cba4d1",
   "metadata": {},
   "outputs": [],
   "source": [
    "df.drop([\"nameDest\",\"nameOrig\"],axis=1,inplace=True)"
   ]
  },
  {
   "cell_type": "code",
   "execution_count": null,
   "id": "de284523",
   "metadata": {},
   "outputs": [],
   "source": [
    "df.head(2)"
   ]
  },
  {
   "cell_type": "code",
   "execution_count": null,
   "id": "786ec81a",
   "metadata": {
    "scrolled": true
   },
   "outputs": [],
   "source": [
    "df.type = df.type.apply(lambda x : 0 if x==\"TRANSFER\" else 1)"
   ]
  },
  {
   "cell_type": "code",
   "execution_count": null,
   "id": "d9316ee2",
   "metadata": {},
   "outputs": [],
   "source": [
    "df.head(2)"
   ]
  },
  {
   "cell_type": "markdown",
   "id": "0b50ee98",
   "metadata": {},
   "source": [
    "###### Almost 50% fraud data has both old & new balance of destination account 0, so seems like a important parameter"
   ]
  },
  {
   "cell_type": "code",
   "execution_count": null,
   "id": "69c4bd57",
   "metadata": {},
   "outputs": [],
   "source": [
    "L = len(df[(df.isFraud==1) & (df.oldbalanceDest == 0) & (df.newbalanceDest == 0)]) \n",
    "L"
   ]
  },
  {
   "cell_type": "code",
   "execution_count": null,
   "id": "9356084b",
   "metadata": {},
   "outputs": [],
   "source": [
    "percentage_fraud_dest = L/len(df[df.isFraud==1])\n",
    "percentage_fraud_dest"
   ]
  },
  {
   "cell_type": "code",
   "execution_count": null,
   "id": "5c63da46",
   "metadata": {},
   "outputs": [],
   "source": [
    "percentage_fraud_orig = len(df[(df.isFraud==1) & (df.oldbalanceOrg == 0) & (df.newbalanceOrig == 0)])/len(df[df.isFraud==1])\n",
    "percentage_fraud_orig"
   ]
  },
  {
   "cell_type": "code",
   "execution_count": null,
   "id": "a32155dd",
   "metadata": {},
   "outputs": [],
   "source": [
    "percentage_not_fraud_orig = len(df[(df.isFraud==0) & (df.oldbalanceOrg == 0) & (df.newbalanceOrig == 0)])/len(df[df.isFraud==0])\n",
    "percentage_not_fraud_orig"
   ]
  },
  {
   "cell_type": "code",
   "execution_count": null,
   "id": "4dce05d7",
   "metadata": {
    "scrolled": true
   },
   "outputs": [],
   "source": [
    "df[df.isFraud==1].describe()"
   ]
  },
  {
   "cell_type": "markdown",
   "id": "762b9854",
   "metadata": {},
   "source": [
    "## Data Visualization"
   ]
  },
  {
   "cell_type": "code",
   "execution_count": null,
   "id": "31f7f264",
   "metadata": {},
   "outputs": [],
   "source": [
    "plt.subplot(1,2,1)\n",
    "plt.xlabel(\"DifferenceOrig\")\n",
    "plt.ylabel(\"isFraud\")\n",
    "plt.scatter(df.DifferenceOrig/1000000,df.isFraud)\n",
    "plt.subplot(1,2,2)\n",
    "plt.xlabel(\"DifferenceDest\")\n",
    "plt.scatter(df.DifferenceDest/1000000,df.isFraud,c = \"g\")"
   ]
  },
  {
   "cell_type": "code",
   "execution_count": null,
   "id": "f99ddc19",
   "metadata": {},
   "outputs": [],
   "source": [
    "sns.scatterplot(df.step,df.isFraud)"
   ]
  },
  {
   "cell_type": "markdown",
   "id": "9f42948c",
   "metadata": {},
   "source": [
    "###### As it is very unlikely to have a fraud for transaction amount >10M so we can drop those rows for the amount > 20M without missing any valuable information"
   ]
  },
  {
   "cell_type": "code",
   "execution_count": null,
   "id": "59f3a409",
   "metadata": {},
   "outputs": [],
   "source": [
    "sns.scatterplot(df.amount/1000000,df.isFraud)"
   ]
  },
  {
   "cell_type": "code",
   "execution_count": null,
   "id": "9584fd9b",
   "metadata": {},
   "outputs": [],
   "source": [
    "df = df.loc[df.amount<20000000]"
   ]
  },
  {
   "cell_type": "code",
   "execution_count": null,
   "id": "4a2693ef",
   "metadata": {},
   "outputs": [],
   "source": [
    "df.amount.max()"
   ]
  },
  {
   "cell_type": "code",
   "execution_count": null,
   "id": "0f6df49a",
   "metadata": {},
   "outputs": [],
   "source": [
    "df = df.reset_index()\n",
    "df.drop(\"index\",axis=1,inplace=True)"
   ]
  },
  {
   "cell_type": "code",
   "execution_count": null,
   "id": "2b7b8546",
   "metadata": {},
   "outputs": [],
   "source": [
    "df.head()"
   ]
  },
  {
   "cell_type": "markdown",
   "id": "33fbc71d",
   "metadata": {},
   "source": [
    "#### Feature Scaling"
   ]
  },
  {
   "cell_type": "code",
   "execution_count": null,
   "id": "3d18e573",
   "metadata": {},
   "outputs": [],
   "source": [
    "from sklearn.pipeline import Pipeline\n",
    "from sklearn.preprocessing import MinMaxScaler\n",
    "my_pipeline = Pipeline([('std_scaler', MinMaxScaler()),])\n",
    "df2 = my_pipeline.fit_transform(df.drop([\"type\",\"isFraud\"],axis=1))"
   ]
  },
  {
   "cell_type": "code",
   "execution_count": null,
   "id": "33a7716d",
   "metadata": {},
   "outputs": [],
   "source": [
    "df2 = pd.concat([pd.DataFrame(df2),pd.DataFrame(df.isFraud)],axis=1)\n",
    "df2.insert(1,\"1\",df.type)\n",
    "df2.columns = df.columns\n",
    "df2.head()"
   ]
  },
  {
   "cell_type": "code",
   "execution_count": null,
   "id": "dd50d9e7",
   "metadata": {},
   "outputs": [],
   "source": [
    "X = df2.drop(\"isFraud\",axis=1)\n",
    "y = df2[\"isFraud\"]"
   ]
  },
  {
   "cell_type": "markdown",
   "id": "2f4991a2",
   "metadata": {},
   "source": [
    "## ML Model"
   ]
  },
  {
   "cell_type": "code",
   "execution_count": null,
   "id": "c4b1c5a0",
   "metadata": {},
   "outputs": [],
   "source": [
    "from sklearn.model_selection import train_test_split\n",
    "x_train, x_test, y_train, y_test = train_test_split(X,y,test_size=0.1)"
   ]
  },
  {
   "cell_type": "code",
   "execution_count": null,
   "id": "4d5bbe9d",
   "metadata": {},
   "outputs": [],
   "source": [
    "from sklearn.svm import SVC\n",
    "from sklearn.ensemble import RandomForestClassifier\n",
    "from sklearn.linear_model import SGDClassifier\n",
    "svc = SVC(kernel='rbf')\n",
    "rfc = RandomForestClassifier(n_estimators = 50,n_jobs=-1,random_state = 101)\n",
    "sgd = SGDClassifier(loss='modified_huber',shuffle = True,random_state = 101)"
   ]
  },
  {
   "cell_type": "code",
   "execution_count": null,
   "id": "49d3da8b",
   "metadata": {},
   "outputs": [],
   "source": [
    "svc.fit(x_train,y_train)"
   ]
  },
  {
   "cell_type": "code",
   "execution_count": null,
   "id": "ccec79b8",
   "metadata": {},
   "outputs": [],
   "source": [
    "rfc.fit(x_train,y_train)"
   ]
  },
  {
   "cell_type": "code",
   "execution_count": null,
   "id": "ebe51ad6",
   "metadata": {},
   "outputs": [],
   "source": [
    "sgd.fit(x_train,y_train)"
   ]
  },
  {
   "cell_type": "markdown",
   "id": "a9695e05",
   "metadata": {},
   "source": [
    "## Cross Validation Score"
   ]
  },
  {
   "cell_type": "code",
   "execution_count": null,
   "id": "263a2dbd",
   "metadata": {},
   "outputs": [],
   "source": [
    "from sklearn.model_selection import cross_val_score\n",
    "for model in [svc,rfc,sgd]:\n",
    "    scores = cross_val_score(model, x_train,y_train, scoring=\"neg_mean_squared_error\", cv=10)\n",
    "    rmse_scores = np.sqrt(-scores)\n",
    "    print(model,\": \",rmse_scores.mean())"
   ]
  },
  {
   "cell_type": "markdown",
   "id": "65de9c0c",
   "metadata": {},
   "source": [
    "## Prediction"
   ]
  },
  {
   "cell_type": "code",
   "execution_count": null,
   "id": "f78a29da",
   "metadata": {},
   "outputs": [],
   "source": [
    "y_pred = []\n",
    "for model in [svc,rfc,sgd]:\n",
    "    pred = model.predict(x_test)\n",
    "    y_pred.append([model,pred])"
   ]
  },
  {
   "cell_type": "markdown",
   "id": "89582b2e",
   "metadata": {},
   "source": [
    "## Calculating Confusion Matrix, Precision & Recall, F1-Score"
   ]
  },
  {
   "cell_type": "code",
   "execution_count": null,
   "id": "bbde27a1",
   "metadata": {},
   "outputs": [],
   "source": [
    "from sklearn.metrics import confusion_matrix\n",
    "from sklearn.metrics import precision_score, recall_score\n",
    "from sklearn.metrics import f1_score"
   ]
  },
  {
   "cell_type": "code",
   "execution_count": null,
   "id": "b972c47b",
   "metadata": {},
   "outputs": [],
   "source": [
    "for m,i in y_pred:\n",
    "    print(m,\"\\n\")\n",
    "    print(\"Confusion Matrix: \",\"\\n\",confusion_matrix(y_test,i))\n",
    "    print(\"Precision: \",precision_score(y_test,i))\n",
    "    print(\"Recall: \",recall_score(y_test,i))\n",
    "    print(\"F1 Score: \",f1_score(y_test,i),\"\\n\")"
   ]
  }
 ],
 "metadata": {
  "kernelspec": {
   "display_name": "Python 3 (ipykernel)",
   "language": "python",
   "name": "python3"
  },
  "language_info": {
   "codemirror_mode": {
    "name": "ipython",
    "version": 3
   },
   "file_extension": ".py",
   "mimetype": "text/x-python",
   "name": "python",
   "nbconvert_exporter": "python",
   "pygments_lexer": "ipython3",
   "version": "3.9.6"
  }
 },
 "nbformat": 4,
 "nbformat_minor": 5
}
